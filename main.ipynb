{
 "cells": [
  {
   "cell_type": "markdown",
   "metadata": {},
   "source": [
    "# An endeavor to quantify my physics intuition\n",
    "\n",
    "- Aka: how well does my confidence and accuracy correlate on physics mcq questions?\n",
    "- **Running Hypothesis: My intuition sucks.**\n"
   ]
  },
  {
   "cell_type": "markdown",
   "metadata": {},
   "source": [
    "## Data\n",
    "\n",
    "- Chat GPT's image recognition is unfortunately of limited capabilities still as was unable to transcribe by handwritten ratings, so I had to do it manually\n"
   ]
  },
  {
   "cell_type": "code",
   "execution_count": 138,
   "metadata": {},
   "outputs": [
    {
     "name": "stdout",
     "output_type": "stream",
     "text": [
      "1 :\n",
      "2 :\n",
      "3 :\n",
      "4 :\n",
      "5 :\n",
      "6 :\n",
      "7 :\n",
      "8 :\n",
      "9 :\n",
      "10 :\n",
      "11 :\n",
      "12 :\n",
      "13 :\n",
      "14 :\n",
      "15 :\n",
      "16 :\n",
      "17 :\n",
      "18 :\n",
      "19 :\n",
      "20 :\n",
      "21 :\n",
      "22 :\n",
      "23 :\n",
      "24 :\n",
      "25 :\n",
      "26 :\n",
      "27 :\n",
      "28 :\n",
      "29 :\n",
      "30 :\n",
      "31 :\n",
      "32 :\n",
      "33 :\n",
      "34 :\n",
      "35 :\n",
      "36 :\n",
      "37 :\n",
      "38 :\n",
      "39 :\n",
      "40 :\n",
      "41 :\n",
      "42 :\n",
      "43 :\n",
      "44 :\n",
      "45 :\n",
      "46 :\n",
      "47 :\n",
      "48 :\n",
      "49 :\n",
      "50 :\n"
     ]
    }
   ],
   "source": [
    "for i in range(1, 51):\n",
    "    print(i, \":\")"
   ]
  },
  {
   "cell_type": "code",
   "execution_count": 139,
   "metadata": {},
   "outputs": [],
   "source": [
    "data_1 = {\n",
    "    1: 2,\n",
    "    2: 3.5,\n",
    "    3: 5,\n",
    "    4: 4.5,\n",
    "    5: 2,\n",
    "    6: 3,\n",
    "    7: 4,\n",
    "    8: 1,\n",
    "    9: 4.5,\n",
    "    10: 5,\n",
    "    11: 1,\n",
    "    12: 5,\n",
    "    13: 4,\n",
    "    14: 3,\n",
    "    15: 4,\n",
    "    16: 3,\n",
    "    17: 4,\n",
    "    18: 4,\n",
    "    19: 4.5,\n",
    "    20: 1,\n",
    "    21: 4,\n",
    "    22: 4,\n",
    "    23: 1,\n",
    "    24: 1,\n",
    "    25: 4,\n",
    "    26: 3,\n",
    "    27: 4,\n",
    "    28: 4.5,\n",
    "    29: 4.5,\n",
    "    30: 5,\n",
    "    31: 5,\n",
    "    32: 2,\n",
    "    33: 2,\n",
    "    34: 3.5,\n",
    "    35: 3,\n",
    "    36: 4,\n",
    "    37: 5,\n",
    "    38: 1,\n",
    "    39: 3,\n",
    "    40: 1,\n",
    "    41: 5,\n",
    "    42: 4,\n",
    "    43: 1,\n",
    "    44: 3,\n",
    "    45: 2,\n",
    "    46: 4,\n",
    "    47: 1,\n",
    "    48: 4.5,\n",
    "    49: 4.5,\n",
    "    50: 5,\n",
    "}\n",
    "\n",
    "inccorect_qs_1 = [50, 48, 43, 40, 39, 38, 36,\n",
    "                  35, 34, 32, 31, 27, 25, 24, 21, 20, 16, 3]"
   ]
  },
  {
   "cell_type": "code",
   "execution_count": 140,
   "metadata": {},
   "outputs": [],
   "source": [
    "data_2 = {\n",
    "    1: 4,\n",
    "    2: 4,\n",
    "    3: 2,\n",
    "    4: 4,\n",
    "    5: 2,\n",
    "    6: 2,\n",
    "    7: 3,\n",
    "    8: 3,\n",
    "    9: 3,\n",
    "    10: 3,\n",
    "    11: 3,\n",
    "    12: 4,\n",
    "    13: 3,\n",
    "    14: 2.5,\n",
    "    15: 3.5,\n",
    "    16: 3,\n",
    "    17: 5,\n",
    "    18: 1,\n",
    "    19: 4,\n",
    "    20: 2,\n",
    "    21: 3,\n",
    "    22: 4,\n",
    "    23: 2,\n",
    "    24: 1,\n",
    "    25: 1,\n",
    "    26: 3,\n",
    "    27: 5,\n",
    "    28: 2,\n",
    "    29: 4,\n",
    "    30: 1,\n",
    "    31: 5,\n",
    "    32: 2,\n",
    "    33: 2,\n",
    "    34: 2,\n",
    "    35: 3.5,\n",
    "    36: 4,\n",
    "    37: 4,\n",
    "    38: 2,\n",
    "    39: 3.5,\n",
    "    40: 3,\n",
    "    41: 4,\n",
    "    42: 5,\n",
    "    43: 5,\n",
    "    44: 3,\n",
    "    45: 1,\n",
    "    46: 4,\n",
    "    47: 5,\n",
    "    48: 5,\n",
    "    49: 2,\n",
    "    50: 4,\n",
    "}\n",
    "\n",
    "inccorect_qs_2 = [42, 30, 29, 28, 25, 24, 21, 5]"
   ]
  },
  {
   "cell_type": "markdown",
   "metadata": {},
   "source": [
    "## Preparing the Data\n",
    "\n",
    "- it's easier to code up the correct format for the Qs than manually enter it for a HUNDRED questions\n"
   ]
  },
  {
   "cell_type": "code",
   "execution_count": 141,
   "metadata": {},
   "outputs": [],
   "source": [
    "import pandas as pd\n",
    "\n",
    "# need to perform ops on both before combining bc sequential data may be relevant as well\n",
    "\n",
    "\n",
    "def convert_to_usable_format(data, inccorect_qs_list):\n",
    "    # convert format to Q : [rating out of 5, incorrect (0 if correct, 1 if incorrect)]\n",
    "    for key, value in data.items():\n",
    "        inccorect = 0\n",
    "        if key in inccorect_qs_list:\n",
    "            inccorect = 1\n",
    "        data[key] = [value, inccorect]\n",
    "\n",
    "\n",
    "convert_to_usable_format(data_1, inccorect_qs_1)\n",
    "convert_to_usable_format(data_2, inccorect_qs_2)\n",
    "\n",
    "df_1 = pd.DataFrame.from_dict(data_1, orient='index', columns=[\n",
    "                              \"confidence\", \"inccorect\"])\n",
    "\n",
    "df_2 = pd.DataFrame.from_dict(data_2, orient=\"index\", columns=[\n",
    "                              \"confidence\", \"inccorect\"])\n",
    "\n",
    "data_combined = data_1.copy()\n",
    "for key, value in data_2.items():\n",
    "    data_combined[key+50] = value\n",
    "df_combined = pd.DataFrame.from_dict(data_combined, orient='index', columns=[\n",
    "    \"confidence\", \"inccorect\"])"
   ]
  },
  {
   "cell_type": "code",
   "execution_count": 142,
   "metadata": {},
   "outputs": [
    {
     "data": {
      "text/html": [
       "<div>\n",
       "<style scoped>\n",
       "    .dataframe tbody tr th:only-of-type {\n",
       "        vertical-align: middle;\n",
       "    }\n",
       "\n",
       "    .dataframe tbody tr th {\n",
       "        vertical-align: top;\n",
       "    }\n",
       "\n",
       "    .dataframe thead th {\n",
       "        text-align: right;\n",
       "    }\n",
       "</style>\n",
       "<table border=\"1\" class=\"dataframe\">\n",
       "  <thead>\n",
       "    <tr style=\"text-align: right;\">\n",
       "      <th></th>\n",
       "      <th>confidence</th>\n",
       "      <th>inccorect</th>\n",
       "    </tr>\n",
       "  </thead>\n",
       "  <tbody>\n",
       "    <tr>\n",
       "      <th>1</th>\n",
       "      <td>2.0</td>\n",
       "      <td>0</td>\n",
       "    </tr>\n",
       "    <tr>\n",
       "      <th>2</th>\n",
       "      <td>3.5</td>\n",
       "      <td>0</td>\n",
       "    </tr>\n",
       "    <tr>\n",
       "      <th>3</th>\n",
       "      <td>5.0</td>\n",
       "      <td>1</td>\n",
       "    </tr>\n",
       "    <tr>\n",
       "      <th>4</th>\n",
       "      <td>4.5</td>\n",
       "      <td>0</td>\n",
       "    </tr>\n",
       "    <tr>\n",
       "      <th>5</th>\n",
       "      <td>2.0</td>\n",
       "      <td>0</td>\n",
       "    </tr>\n",
       "  </tbody>\n",
       "</table>\n",
       "</div>"
      ],
      "text/plain": [
       "   confidence  inccorect\n",
       "1         2.0          0\n",
       "2         3.5          0\n",
       "3         5.0          1\n",
       "4         4.5          0\n",
       "5         2.0          0"
      ]
     },
     "execution_count": 142,
     "metadata": {},
     "output_type": "execute_result"
    }
   ],
   "source": [
    "df_combined.head()"
   ]
  },
  {
   "cell_type": "markdown",
   "metadata": {},
   "source": [
    "## Visualization\n",
    "\n",
    "- exploring confidence, confidence's correlation with correctness, and time's correlation with correctness\n"
   ]
  },
  {
   "cell_type": "code",
   "execution_count": 143,
   "metadata": {},
   "outputs": [
    {
     "data": {
      "image/png": "[encoded data removed]",
      "text/plain": [
       "<Figure size 432x288 with 1 Axes>"
      ]
     },
     "metadata": {
      "needs_background": "light"
     },
     "output_type": "display_data"
    }
   ],
   "source": [
    "import matplotlib.pyplot as plt\n",
    "\n",
    "plt.hist(df_combined.confidence, bins=[1, 2, 3, 4, 5])\n",
    "plt.xticks(range(1, 6))\n",
    "plt.xlabel(\"Confidence (1_lowest to 5_highest)\")\n",
    "plt.ylabel(\"Number of Questions\")\n",
    "plt.title(\"How Confident Am I on Physics Questions?\")\n",
    "plt.show()"
   ]
  },
  {
   "cell_type": "code",
   "execution_count": 144,
   "metadata": {},
   "outputs": [],
   "source": [
    "df_confidence_percentage = df_combined.confidence.value_counts() / \\\n",
    "    df_combined.shape[0] * 100\n",
    "\n",
    "# for the sake of having a neater bar graph\n",
    "for confidence_index in df_confidence_percentage.index:\n",
    "    if confidence_index % 1 != 0:\n",
    "        floored_index = int(confidence_index)\n",
    "        df_confidence_percentage[floored_index] += df_confidence_percentage[confidence_index]\n",
    "        df_confidence_percentage.drop(confidence_index, inplace=True)"
   ]
  },
  {
   "cell_type": "code",
   "execution_count": 145,
   "metadata": {},
   "outputs": [
    {
     "data": {
      "image/png": "[encoded data removed]",
      "text/plain": [
       "<Figure size 432x288 with 1 Axes>"
      ]
     },
     "metadata": {
      "needs_background": "light"
     },
     "output_type": "display_data"
    }
   ],
   "source": [
    "# slightly left-skewed\n",
    "plt.bar(df_confidence_percentage.index,\n",
    "        df_confidence_percentage.values)\n",
    "plt.xlabel(\"Confidence (1_lowest to 5_highest)\")\n",
    "plt.ylabel(\"Percent of Questions Ranked\")\n",
    "plt.title(\"How Confident Am I on Physics Questions?\")\n",
    "plt.show()"
   ]
  },
  {
   "cell_type": "code",
   "execution_count": 146,
   "metadata": {},
   "outputs": [
    {
     "data": {
      "image/png": "[encoded data removed]",
      "text/plain": [
       "<Figure size 432x288 with 1 Axes>"
      ]
     },
     "metadata": {
      "needs_background": "light"
     },
     "output_type": "display_data"
    }
   ],
   "source": [
    "# distribution of count for incorrectness per confidence level\n",
    "number_incorrect_per_bin = {1: 0, 2: 0, 3: 0, 4: 0, 5: 0}\n",
    "\n",
    "\n",
    "def add_inccorect_qs(list_incorrect_qs, data):\n",
    "    for q in list_incorrect_qs:\n",
    "        confidence_index = data[q][0]\n",
    "        number_incorrect_per_bin[int(\n",
    "            confidence_index)] = number_incorrect_per_bin[int(confidence_index)] + 1\n",
    "\n",
    "\n",
    "add_inccorect_qs(inccorect_qs_1, data_1)\n",
    "add_inccorect_qs(inccorect_qs_2, data_2)\n",
    "\n",
    "\n",
    "plt.bar(number_incorrect_per_bin.keys(), number_incorrect_per_bin.values())\n",
    "plt.title(\"Confidence Rating v.s. Number of Questions Incorrect\")\n",
    "plt.ylabel(\"Count inccorect\")\n",
    "plt.xlabel(\"Confidence Rating (1 - 5)\")\n",
    "plt.show()"
   ]
  },
  {
   "cell_type": "code",
   "execution_count": 147,
   "metadata": {},
   "outputs": [
    {
     "data": {
      "image/png": "[encoded data removed]",
      "text/plain": [
       "<Figure size 432x288 with 1 Axes>"
      ]
     },
     "metadata": {
      "needs_background": "light"
     },
     "output_type": "display_data"
    }
   ],
   "source": [
    "percent_incorrect_per_bin = {}\n",
    "\n",
    "# going to just convert to ints at this point...\n",
    "value_counts_dict = {}\n",
    "\n",
    "for index, value in df_combined.confidence.value_counts().items():\n",
    "    floored_index = int(index)\n",
    "    if floored_index in value_counts_dict:\n",
    "        value_counts_dict[floored_index] += value\n",
    "    else:\n",
    "        value_counts_dict[floored_index] = value\n",
    "\n",
    "value_counts_dict\n",
    "for key in value_counts_dict.keys():\n",
    "    percent_incorrect_per_bin[key] = number_incorrect_per_bin[key] / \\\n",
    "        value_counts_dict[key] * 100\n",
    "\n",
    "percent_incorrect_per_bin\n",
    "\n",
    "plt.bar(percent_incorrect_per_bin.keys(), percent_incorrect_per_bin.values())\n",
    "plt.ylabel(\"Percent Qs Incorrect\")\n",
    "plt.xlabel(\"Confidence Level (1-5)\")\n",
    "plt.title(\"Confidence Level on Questions v.s. Percentange Incorrect\")\n",
    "plt.show()"
   ]
  },
  {
   "cell_type": "code",
   "execution_count": 148,
   "metadata": {},
   "outputs": [
    {
     "data": {
      "image/png": "[encoded data removed]",
      "text/plain": [
       "<Figure size 432x288 with 1 Axes>"
      ]
     },
     "metadata": {
      "needs_background": "light"
     },
     "output_type": "display_data"
    }
   ],
   "source": [
    "import numpy as np\n",
    "\n",
    "bins = [0, 10, 20, 30, 40, 50]\n",
    "all_inccorect = inccorect_qs_1 + inccorect_qs_2\n",
    "hist, bin_edges = np.histogram(all_inccorect, bins)  # hist = count in each bin\n",
    "\n",
    "plt.bar(bin_edges[:-1], hist, width=np.diff(bin_edges), align='edge')\n",
    "plt.ylabel(\"Count incorrect\")\n",
    "plt.xlabel(\"Question Number\")\n",
    "plt.title(\"Question Bins v.s. Count Incorrect\")\n",
    "plt.show()"
   ]
  },
  {
   "cell_type": "code",
   "execution_count": 149,
   "metadata": {},
   "outputs": [
    {
     "data": {
      "image/png": "[encoded data removed]",
      "text/plain": [
       "<Figure size 432x288 with 1 Axes>"
      ]
     },
     "metadata": {
      "needs_background": "light"
     },
     "output_type": "display_data"
    }
   ],
   "source": [
    "import numpy as np\n",
    "\n",
    "bins = [0, 25, 50]\n",
    "all_inccorect = inccorect_qs_1 + inccorect_qs_2\n",
    "hist, bin_edges = np.histogram(all_inccorect, bins)  # hist = count in each bin\n",
    "\n",
    "plt.bar(bin_edges[:-1], hist, width=np.diff(bin_edges), align='edge')\n",
    "plt.ylabel(\"Count incorrect\")\n",
    "plt.xlabel(\"Question Number\")\n",
    "plt.title(\"Question Bins v.s. Count Incorrect\")\n",
    "plt.show()"
   ]
  },
  {
   "cell_type": "markdown",
   "metadata": {},
   "source": [
    "## Conclusion: Does my intuition, in fact, suck?\n",
    "\n",
    "#### Conclusion\n",
    "\n",
    "- Not if I entirely don't know how to a problem (ranking of one). If that's the case, then my odds still hover around 50% -- which is actually pretty good.\n",
    "- Otherwise, **for the most part, yes**. Regardless of how difficult I rank the question, I have a 20-30% chance of getting it wrong. After the lowest confidence level, the next highest percentage of incorrect per questions lies in the highest confidence level... which is a tad concerning.\n",
    "\n",
    "#### Side-tangent\n",
    "\n",
    "- I get a signifant amount more wrong in the second half of the test, most likely reflecting my brain getting tired.\n"
   ]
  },
  {
   "cell_type": "code",
   "execution_count": null,
   "metadata": {},
   "outputs": [],
   "source": []
  }
 ],
 "metadata": {
  "kernelspec": {
   "display_name": "Python 3",
   "language": "python",
   "name": "python3"
  },
  "language_info": {
   "codemirror_mode": {
    "name": "ipython",
    "version": 3
   },
   "file_extension": ".py",
   "mimetype": "text/x-python",
   "name": "python",
   "nbconvert_exporter": "python",
   "pygments_lexer": "ipython3",
   "version": "3.8.17"
  }
 },
 "nbformat": 4,
 "nbformat_minor": 2
}
